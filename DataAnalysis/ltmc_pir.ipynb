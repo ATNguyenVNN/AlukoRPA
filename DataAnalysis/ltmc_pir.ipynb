{
 "cells": [
  {
   "cell_type": "markdown",
   "metadata": {},
   "source": [
    "Tool Auto Export Data from Purchase Info Record Template to XML & upload to LTMC"
   ]
  },
  {
   "cell_type": "code",
   "execution_count": 48,
   "metadata": {},
   "outputs": [],
   "source": [
    "# Getting and Knowing Data\n",
    "import pandas as pd\n",
    "import numpy as np\n",
    "from datetime import datetime\n",
    "import time"
   ]
  },
  {
   "cell_type": "markdown",
   "metadata": {},
   "source": [
    "PURCHASE INFO RECORD DATA"
   ]
  },
  {
   "cell_type": "code",
   "execution_count": 58,
   "metadata": {},
   "outputs": [
    {
     "data": {
      "text/html": [
       "<div>\n",
       "<style scoped>\n",
       "    .dataframe tbody tr th:only-of-type {\n",
       "        vertical-align: middle;\n",
       "    }\n",
       "\n",
       "    .dataframe tbody tr th {\n",
       "        vertical-align: top;\n",
       "    }\n",
       "\n",
       "    .dataframe thead th {\n",
       "        text-align: right;\n",
       "    }\n",
       "</style>\n",
       "<table border=\"1\" class=\"dataframe\">\n",
       "  <thead>\n",
       "    <tr style=\"text-align: right;\">\n",
       "      <th></th>\n",
       "      <th>MATNR</th>\n",
       "      <th>LIFNR</th>\n",
       "      <th>EKORG</th>\n",
       "      <th>WERKS</th>\n",
       "      <th>MEINS</th>\n",
       "      <th>KBETR_EXT</th>\n",
       "      <th>KPEIN</th>\n",
       "      <th>KMEIN</th>\n",
       "      <th>UMREN</th>\n",
       "      <th>UMREZ</th>\n",
       "      <th>VALID_FROM</th>\n",
       "      <th>VALID_TO</th>\n",
       "    </tr>\n",
       "  </thead>\n",
       "  <tbody>\n",
       "    <tr>\n",
       "      <th>0</th>\n",
       "      <td>22H14C00599530001</td>\n",
       "      <td>2120</td>\n",
       "      <td>2300</td>\n",
       "      <td>2300</td>\n",
       "      <td>EA</td>\n",
       "      <td>11000</td>\n",
       "      <td>1</td>\n",
       "      <td>KG</td>\n",
       "      <td>3556.0</td>\n",
       "      <td>1000</td>\n",
       "      <td>01.11.2022</td>\n",
       "      <td>31.12.9999</td>\n",
       "    </tr>\n",
       "    <tr>\n",
       "      <th>1</th>\n",
       "      <td>22H14C00599530002</td>\n",
       "      <td>2120</td>\n",
       "      <td>2300</td>\n",
       "      <td>2300</td>\n",
       "      <td>EA</td>\n",
       "      <td>11000</td>\n",
       "      <td>1</td>\n",
       "      <td>KG</td>\n",
       "      <td>2460.0</td>\n",
       "      <td>1000</td>\n",
       "      <td>01.11.2022</td>\n",
       "      <td>31.12.9999</td>\n",
       "    </tr>\n",
       "    <tr>\n",
       "      <th>2</th>\n",
       "      <td>22H14C00599530003</td>\n",
       "      <td>2120</td>\n",
       "      <td>2300</td>\n",
       "      <td>2300</td>\n",
       "      <td>EA</td>\n",
       "      <td>11000</td>\n",
       "      <td>1</td>\n",
       "      <td>KG</td>\n",
       "      <td>5563.0</td>\n",
       "      <td>1000</td>\n",
       "      <td>01.11.2022</td>\n",
       "      <td>31.12.9999</td>\n",
       "    </tr>\n",
       "    <tr>\n",
       "      <th>3</th>\n",
       "      <td>22H14C00599530004</td>\n",
       "      <td>2120</td>\n",
       "      <td>2300</td>\n",
       "      <td>2300</td>\n",
       "      <td>EA</td>\n",
       "      <td>11000</td>\n",
       "      <td>1</td>\n",
       "      <td>KG</td>\n",
       "      <td>4450.0</td>\n",
       "      <td>1000</td>\n",
       "      <td>01.11.2022</td>\n",
       "      <td>31.12.9999</td>\n",
       "    </tr>\n",
       "    <tr>\n",
       "      <th>4</th>\n",
       "      <td>22H14C00599530005</td>\n",
       "      <td>2120</td>\n",
       "      <td>2300</td>\n",
       "      <td>2300</td>\n",
       "      <td>EA</td>\n",
       "      <td>11000</td>\n",
       "      <td>1</td>\n",
       "      <td>KG</td>\n",
       "      <td>4488.0</td>\n",
       "      <td>1000</td>\n",
       "      <td>01.11.2022</td>\n",
       "      <td>31.12.9999</td>\n",
       "    </tr>\n",
       "  </tbody>\n",
       "</table>\n",
       "</div>"
      ],
      "text/plain": [
       "               MATNR  LIFNR  EKORG  WERKS MEINS  KBETR_EXT  KPEIN KMEIN  \\\n",
       "0  22H14C00599530001   2120   2300   2300    EA      11000      1    KG   \n",
       "1  22H14C00599530002   2120   2300   2300    EA      11000      1    KG   \n",
       "2  22H14C00599530003   2120   2300   2300    EA      11000      1    KG   \n",
       "3  22H14C00599530004   2120   2300   2300    EA      11000      1    KG   \n",
       "4  22H14C00599530005   2120   2300   2300    EA      11000      1    KG   \n",
       "\n",
       "    UMREN  UMREZ  VALID_FROM    VALID_TO  \n",
       "0  3556.0   1000  01.11.2022  31.12.9999  \n",
       "1  2460.0   1000  01.11.2022  31.12.9999  \n",
       "2  5563.0   1000  01.11.2022  31.12.9999  \n",
       "3  4450.0   1000  01.11.2022  31.12.9999  \n",
       "4  4488.0   1000  01.11.2022  31.12.9999  "
      ]
     },
     "execution_count": 58,
     "metadata": {},
     "output_type": "execute_result"
    }
   ],
   "source": [
    "# Step 1: Import Dataset\n",
    "file_excel = r\"C:\\Users\\Admin\\Desktop\\List AF.xlsx\"\n",
    "df_data = pd.read_excel(file_excel, usecols=\"A:L\", skiprows=[1], keep_default_na=False)\n",
    "df_data.head()"
   ]
  },
  {
   "cell_type": "markdown",
   "metadata": {},
   "source": [
    "LTMC_PIR_XMLSHEET.\n"
   ]
  },
  {
   "cell_type": "code",
   "execution_count": 59,
   "metadata": {},
   "outputs": [],
   "source": [
    "path_pir = r\"C:\\Users\\Admin\\Desktop\\LTMC_PurchaseInfoRecord.xlsx\"\n",
    "df_GD = pd.read_excel(path_pir, sheet_name='General Data',\n",
    "                      header=4, skiprows=[5, 6, 7], keep_default_na=False, na_filter=\"\")\n",
    "df_POD = pd.read_excel(path_pir, sheet_name='Purchasing Organization Data',\n",
    "                       header=4, skiprows=[5, 6, 7], keep_default_na=False)\n",
    "df_cdt = pd.read_excel(path_pir, sheet_name='Conditions',\n",
    "                       header=4, skiprows=[5, 6, 7], keep_default_na=False)\n"
   ]
  },
  {
   "cell_type": "markdown",
   "metadata": {},
   "source": [
    "DEFAULD DATA"
   ]
  },
  {
   "cell_type": "code",
   "execution_count": 60,
   "metadata": {},
   "outputs": [],
   "source": [
    "# For Subcontract Purchase info record.\n",
    "# Sheet General Data\n",
    "df_GD.MAHN1 = df_GD.MAHN2 = df_GD.MAHN3 = 0\n",
    "# Sheet Purchasing Organization Data\n",
    "df_POD.ESOKZ = df_cdt.ESOKZ = 3\n",
    "df_POD.EKGRP = 105\n",
    "df_POD.WAERS = df_cdt.KONWA = 'VND'\n",
    "df_POD.MINBM = df_POD.MHDRZ = df_POD.BSTMA = 0\n",
    "df_POD.NORBM = 1\n",
    "df_POD.APLFZ = 1\n",
    "df_POD.UEBTO = 0\n",
    "df_POD.UNTTO = 0\n",
    "df_POD.BWTAR = \"EX\"\n",
    "df_POD.WEBRE = \"X\"\n",
    "df_POD.MWSKZ = \"VA\"\n",
    "df_POD.BSTAE = \"0004\"\n",
    "# Sheet Conditions\n",
    "df_cdt.COND_TYPE = 'PB00'\n",
    "df_cdt.KOPOS = 1\n"
   ]
  },
  {
   "cell_type": "markdown",
   "metadata": {},
   "source": [
    "For Loops & Fill Data\n"
   ]
  },
  {
   "cell_type": "code",
   "execution_count": 61,
   "metadata": {},
   "outputs": [
    {
     "name": "stderr",
     "output_type": "stream",
     "text": [
      "C:\\Users\\Admin\\AppData\\Local\\Temp\\ipykernel_20436\\1170108722.py:15: UserWarning: Pandas doesn't allow columns to be created via a new attribute name - see https://pandas.pydata.org/pandas-docs/stable/indexing.html#attribute-access\n",
      "  df_cdt.KUMNE = df_data.UMREZ\n",
      "C:\\Users\\Admin\\AppData\\Local\\Temp\\ipykernel_20436\\1170108722.py:16: UserWarning: Pandas doesn't allow columns to be created via a new attribute name - see https://pandas.pydata.org/pandas-docs/stable/indexing.html#attribute-access\n",
      "  df_cdt.KUMZA = df_data.UMREN\n"
     ]
    }
   ],
   "source": [
    "# Create sequence number\n",
    "seq = str(datetime.now().strftime('%Y%m%d-%H%M%S')) + \"-\"\n",
    "for index, row in df_data.iterrows():\n",
    "    # Legacy Number\n",
    "    df_GD.at[index, 'INFNR'] = df_POD.at[index,\n",
    "                                         'INFNR'] = df_cdt.at[index, 'INFNR'] = str(seq + str(index))\n",
    "for i in df_data.columns:\n",
    "    if i in list(df_GD.columns):\n",
    "        df_GD[i] = df_data[i]\n",
    "    if i in list(df_POD.columns):\n",
    "        df_POD[i] = df_data[i]\n",
    "    if i in list(df_cdt.columns):\n",
    "        df_cdt[i] = df_data[i]\n",
    "        \n",
    "df_cdt.KUMNE = df_data.UMREZ\n",
    "df_cdt.KUMZA = df_data.UMREN\n",
    "\n",
    "df_cdt = df_cdt.fillna(\"\")\n",
    "df_GD = df_GD.fillna(\"\")\n",
    "df_POD = df_POD.fillna(\"\")"
   ]
  },
  {
   "cell_type": "markdown",
   "metadata": {},
   "source": [
    "GET HEADER SHEET"
   ]
  },
  {
   "cell_type": "code",
   "execution_count": 62,
   "metadata": {},
   "outputs": [
    {
     "name": "stdout",
     "output_type": "stream",
     "text": [
      "(11800, 27) (11800, 37) (11800, 19)\n"
     ]
    }
   ],
   "source": [
    "print(df_GD.shape , df_POD.shape, df_cdt.shape)"
   ]
  },
  {
   "cell_type": "markdown",
   "metadata": {},
   "source": [
    "EXPORT TO EXCEL FILE"
   ]
  },
  {
   "cell_type": "markdown",
   "metadata": {},
   "source": [
    "Put multiple dataframes across separate tabs/sheets"
   ]
  },
  {
   "cell_type": "code",
   "execution_count": 63,
   "metadata": {},
   "outputs": [],
   "source": [
    "# function\n",
    "def dfs_tabs(df_list, sheet_list, file_name):\n",
    "    writer = pd.ExcelWriter(file_name,engine='xlsxwriter')   \n",
    "    for dataframe, sheet in zip(df_list, sheet_list):\n",
    "        dataframe.to_excel(writer, sheet_name=sheet, startrow=8 , startcol=0, index= False)   \n",
    "    writer.close()\n",
    "\n",
    "# list of dataframes and sheet names\n",
    "dfs = [df_GD, df_POD, df_cdt]\n",
    "sheets = ['General Data','Purchasing Organization Data','Conditions']    \n",
    "\n",
    "# run function\n",
    "dfs_tabs(dfs, sheets, path_pir)"
   ]
  },
  {
   "cell_type": "code",
   "execution_count": null,
   "metadata": {},
   "outputs": [],
   "source": []
  }
 ],
 "metadata": {
  "kernelspec": {
   "display_name": "venv",
   "language": "python",
   "name": "python3"
  },
  "language_info": {
   "codemirror_mode": {
    "name": "ipython",
    "version": 3
   },
   "file_extension": ".py",
   "mimetype": "text/x-python",
   "name": "python",
   "nbconvert_exporter": "python",
   "pygments_lexer": "ipython3",
   "version": "3.10.7"
  },
  "orig_nbformat": 4,
  "vscode": {
   "interpreter": {
    "hash": "361f9855a10a60f4ab9942600e48dc55b169bbc56bf0337e9f9442cba23c7b86"
   }
  }
 },
 "nbformat": 4,
 "nbformat_minor": 2
}
