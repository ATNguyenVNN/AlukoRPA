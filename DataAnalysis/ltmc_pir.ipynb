{
 "cells": [
  {
   "cell_type": "markdown",
   "metadata": {},
   "source": [
    "Tool Auto Export Data from Purchase Info Record Template to XML & upload to LTMC"
   ]
  },
  {
   "cell_type": "code",
   "execution_count": 11,
   "metadata": {},
   "outputs": [],
   "source": [
    "# Getting and Knowing Data\n",
    "import pandas as pd\n",
    "import numpy as np\n",
    "from datetime import datetime\n",
    "import time"
   ]
  },
  {
   "cell_type": "markdown",
   "metadata": {},
   "source": [
    "PURCHASE INFO RECORD DATA"
   ]
  },
  {
   "cell_type": "code",
   "execution_count": 12,
   "metadata": {},
   "outputs": [
    {
     "name": "stdout",
     "output_type": "stream",
     "text": [
      "<class 'pandas.core.frame.DataFrame'>\n",
      "RangeIndex: 106 entries, 0 to 105\n",
      "Data columns (total 12 columns):\n",
      " #   Column     Non-Null Count  Dtype \n",
      "---  ------     --------------  ----- \n",
      " 0   MATNR      106 non-null    object\n",
      " 1   LIFNR      106 non-null    int64 \n",
      " 2   EKORG      106 non-null    int64 \n",
      " 3   WERKS      106 non-null    int64 \n",
      " 4   MEINS      106 non-null    object\n",
      " 5   KBETR_EXT  106 non-null    int64 \n",
      " 6   KPEIN      106 non-null    int64 \n",
      " 7   KMEIN      106 non-null    object\n",
      " 8   KUMNE      106 non-null    int32 \n",
      " 9   KUMZA      106 non-null    int64 \n",
      " 10  DATAB      106 non-null    object\n",
      " 11  DATBI      106 non-null    object\n",
      "dtypes: int32(1), int64(6), object(5)\n",
      "memory usage: 9.6+ KB\n"
     ]
    }
   ],
   "source": [
    "# Step 1: Import Dataset\n",
    "file_excel = r\"C:\\Users\\Admin\\Desktop\\T12.L16.SAP_MM_Form_Purchase Info Record EA AF.xlsx\"\n",
    "df_data = pd.read_excel(file_excel, usecols=\"A:L\", skiprows=[1], keep_default_na=False)\n",
    "df_data['KUMNE'] = df_data['KUMNE'].astype(int)\n",
    "df_data.info()\n"
   ]
  },
  {
   "cell_type": "markdown",
   "metadata": {},
   "source": [
    "LTMC_PIR_XMLSHEET.\n"
   ]
  },
  {
   "cell_type": "code",
   "execution_count": 13,
   "metadata": {},
   "outputs": [],
   "source": [
    "df_general = pd.DataFrame(columns=[\"INFNR\",\"MATNR\",\"MATKL\",\"LIFNR\",\"TXZ01\",\"SORTL\",\"MEINS\",\"UMREZ\",\"UMREN\",\"IDNLF\",\"VERKF\",\"TELF1\",\"MAHN1\",\"MAHN2\",\"MAHN3\",\"LMEIN\",\"VABME\",\"WGLIF\",\"KOLIF\",\"URZLA\",\"REGIO\",\"LIFAB\",\"LIFBI\",\"RELIF\"])\n",
    "df_purch_org = pd.DataFrame(columns=[\"INFNR\",\"EKORG\",\"ESOKZ\",\"WERKS\",\"EKGRP\",\"WAERS\",\"MINBM\",\"NORBM\",\"APLFZ\",\"UEBTO\",\"UEBTK\",\"UNTTO\",\"BWTAR\",\"MTXNO\",\"WEBRE\",\"KZABS\",\"MWSKZ\",\"EVERS\",\"BSTAE\",\"XERSN\",\"MHDRZ\",\"IPRKZ\",\"BSTMA\",\"EXPRF_LAND1\",\"EXPRF\",\"RDPRF\",\"VENDOR_RMA_REQ\",\"AUT_SOURCE\",\"SKTOF\",\"MEPRF\",\"INCOV\",\"INCO1\",\"INCO2_L\",\"INCO3_L\"])\n",
    "df_conditions = pd.DataFrame(columns=[\"INFNR\",\"EKORG\",\"ESOKZ\",\"WERKS\",\"KOPOS\",\"COND_TYPE\",\"VALID_FROM\",\"VALID_TO\",\"KRECH\",\"KBETR_EXT\",\"KONWA\",\"KPEIN\",\"KMEIN\",\"KUMZA\",\"KUMNE\",\"MEINS\"])\n",
    "\n",
    "dfs = [df_general,df_purch_org,df_conditions]\n",
    "sheets = ['General Data','Purchasing Organization Data','Conditions'] \n",
    "# Convert Data from Template.\n",
    "for field in df_data.columns:\n",
    "    for df in dfs:\n",
    "        if field in list(df.columns):\n",
    "            df[field] = df_data[field]\n",
    "# Create sequence number\n",
    "seq = str(datetime.now().strftime('%Y%m%d%H%M')) + \"-\"\n",
    "for index, row in df_data.iterrows():\n",
    "    for df in dfs:\n",
    "        # Legacy Number\n",
    "        df.at[index, 'INFNR'] = str(seq + str(index+1))"
   ]
  },
  {
   "attachments": {},
   "cell_type": "markdown",
   "metadata": {},
   "source": [
    "Defauld Data in template."
   ]
  },
  {
   "cell_type": "code",
   "execution_count": 14,
   "metadata": {},
   "outputs": [],
   "source": [
    "# Purchasing Org Data.\n",
    "df_purch_org['ESOKZ'] = 3   # Info Record Category.\n",
    "df_purch_org['EKGRP'] = 105\n",
    "df_purch_org['WAERS'] = \"VND\"   # Currency.\n",
    "df_purch_org['NORBM'] = 1    # Standard Purchase Order Qty.\n",
    "df_purch_org['BWTAR'] = \"EX\"    # Val Type.\n",
    "df_purch_org['WEBRE'] = \"X\"    # \"Indicator: GR-Based Invoice Verification\n",
    "df_purch_org['MWSKZ'] = \"VA\"    # Tax on sales/purchases code\n",
    "df_purch_org['BSTAE'] = \"0004\"\n",
    "df_purch_org['APLFZ'] = '1'\n",
    "# Conditions Data.\n",
    "\n",
    "df_conditions['COND_TYPE'] = \"PB00\"\n",
    "df_conditions['ESOKZ'] = 3   # Info Record Category.\n",
    "df_conditions['KOPOS'] = '01'   # Condition Sequence Number\n",
    "df_conditions['KONWA'] = \"VND\"\n",
    "df_conditions['VALID_FROM'] = df_data['DATAB']\n",
    "df_conditions['VALID_TO']= df_data['DATBI']\n"
   ]
  },
  {
   "cell_type": "markdown",
   "metadata": {},
   "source": [
    "EXPORT TO EXCEL FILE"
   ]
  },
  {
   "cell_type": "markdown",
   "metadata": {},
   "source": [
    "Put multiple dataframes across separate tabs/sheets"
   ]
  },
  {
   "attachments": {},
   "cell_type": "markdown",
   "metadata": {},
   "source": [
    "<!-- # Defauld Data in template. -->"
   ]
  },
  {
   "cell_type": "code",
   "execution_count": 15,
   "metadata": {},
   "outputs": [],
   "source": [
    "# function\n",
    "def dfs_tabs(df_list, sheet_list, file_name):\n",
    "    writer = pd.ExcelWriter(file_name,engine='xlsxwriter')   \n",
    "    for dataframe, sheet in zip(df_list, sheet_list):\n",
    "        dataframe.to_excel(writer, sheet_name=sheet, startrow=0 , startcol=0, index= False)   \n",
    "    writer.close()\n",
    "\n",
    "# run function\n",
    "dfs_tabs(dfs, sheets, \"LTMC.xlsx\")"
   ]
  }
 ],
 "metadata": {
  "kernelspec": {
   "display_name": "venv",
   "language": "python",
   "name": "python3"
  },
  "language_info": {
   "codemirror_mode": {
    "name": "ipython",
    "version": 3
   },
   "file_extension": ".py",
   "mimetype": "text/x-python",
   "name": "python",
   "nbconvert_exporter": "python",
   "pygments_lexer": "ipython3",
   "version": "3.11.1"
  },
  "orig_nbformat": 4,
  "vscode": {
   "interpreter": {
    "hash": "32096628298060b459ae0808dd3436fe4420aff65b7f21ebbd881aa769dbe53c"
   }
  }
 },
 "nbformat": 4,
 "nbformat_minor": 2
}
