{
 "cells": [
  {
   "cell_type": "code",
   "execution_count": 7,
   "metadata": {},
   "outputs": [],
   "source": [
    "from pyrfc import Connection,ABAPApplicationError, ABAPRuntimeError, LogonError, CommunicationError\n",
    "import pandas as pd\n",
    "import re\n",
    "import numpy as np\n",
    "\n",
    "class main():\n",
    "    def __init__(self):\n",
    "        # # PRD 100\n",
    "        # ASHOST='100.100.0.114'\n",
    "        # CLIENT='100'\n",
    "        # SYSNR='00'\n",
    "        # USER='AMMP35'\n",
    "        # PASSWD='Dua@2022@'\n",
    "        # ALP 500\n",
    "        ASHOST='100.100.0.113'\n",
    "        CLIENT='500'\n",
    "        SYSNR='50'\n",
    "        USER='AMMP35'\n",
    "        PASSWD='Dua@2022@'\n",
    "        self.conn = Connection(ashost=ASHOST, sysnr=SYSNR, client=CLIENT, user=USER, passwd=PASSWD)\n",
    "\n",
    "    def query(self, Fields, SQLTable, Where = '', MaxRows=50, FromRow=0):\n",
    "        \"\"\"A function to query SAP with RFC_READ_TABLE\"\"\"\n",
    "\n",
    "        # By default, if you send a blank value for fields, you get all of them\n",
    "        # Therefore, we add a select all option, to better mimic SQL.\n",
    "        if Fields[0] == '*':\n",
    "            Fields = ''\n",
    "        else:\n",
    "            Fields = [{'FIELDNAME':x} for x in Fields] # Notice the format\n",
    "\n",
    "        # the WHERE part of the query is called \"options\"\n",
    "        options = [{'TEXT': x} for x in Where] # again, notice the format\n",
    "        print(options)\n",
    "\n",
    "        # we set a maximum number of rows to return, because it's easy to do and\n",
    "        # greatly speeds up testing queries.\n",
    "        rowcount = MaxRows\n",
    "        try:\n",
    "        # Here is the call to SAP's RFC_READ_TABLE\n",
    "            tables = self.conn.call('RFC_READ_TABLE', \\\n",
    "                        QUERY_TABLE = SQLTable, \\\n",
    "                        DELIMITER = '|',\\\n",
    "                        FIELDS = Fields,\\\n",
    "                        OPTIONS = options, \\\n",
    "                        ROWSKIPS = FromRow, ROWCOUNT = MaxRows)\n",
    "        # We split out fields and fields_name to hold the data and the column names\n",
    "        except CommunicationError:\n",
    "            print(\"Could not connect to server.\")\n",
    "            raise\n",
    "        except LogonError:\n",
    "            print(\"Could not log in. Wrong credentials?\")\n",
    "            raise\n",
    "        except (ABAPApplicationError, ABAPRuntimeError):\n",
    "            print(\"An error occurred.\")\n",
    "            raise\n",
    "        fields = []\n",
    "        fields_name = []\n",
    "\n",
    "        data_fields = tables[\"DATA\"] # pull the data part of the result set\n",
    "        data_names = tables[\"FIELDS\"] # pull the field name part of the result set\n",
    "\n",
    "        headers = [x['FIELDNAME'] for x in data_names] # headers extraction\n",
    "        long_fields = len(data_fields) # data extraction\n",
    "        long_names = len(data_names) # full headers extraction if you want it\n",
    "\n",
    "        # now parse the data fields into a list\n",
    "        for line in range(0, long_fields):\n",
    "            fields.append(data_fields[line][\"WA\"].strip())\n",
    "\n",
    "        # for each line, split the list by the '|' separator\n",
    "        fields = [x.strip().split('|') for x in fields ]\n",
    "\n",
    "        # return the 2D list and the headers\n",
    "        df = pd.DataFrame(fields,columns = headers)\n",
    "        return df\n",
    "    \n",
    "    def pivot_table_w_subtotals(df, values, indices, columns, aggfunc, fill_value):\n",
    "        '''\n",
    "        Adds tabulated subtotals to pandas pivot tables with multiple hierarchical indices.\n",
    "        \n",
    "        Args:\n",
    "        - df - dataframe used in pivot table\n",
    "        - values - values used to aggregrate\n",
    "        - indices - ordered list of indices to aggregrate by\n",
    "        - columns - columns to aggregrate by\n",
    "        - aggfunc - function used to aggregrate (np.max, np.mean, np.sum, etc)\n",
    "        - fill_value - value used to in place of empty cells\n",
    "        \n",
    "        Returns:\n",
    "        -flat table with data aggregrated and tabulated\n",
    "        \n",
    "        '''\n",
    "        listOfTable = []\n",
    "        for indexNumber in range(len(indices)):\n",
    "            n = indexNumber+1\n",
    "            if n == 1:\n",
    "                table = pd.pivot_table(df,values=values,index=indices[:n],columns=columns,aggfunc=aggfunc,fill_value=fill_value,margins=True)\n",
    "            else:\n",
    "                table = pd.pivot_table(df,values=values,index=indices[:n],columns=columns,aggfunc=aggfunc,fill_value=fill_value)\n",
    "            table = table.reset_index()\n",
    "            for column in indices[n:]:\n",
    "                table[column] = ''\n",
    "            listOfTable.append(table)\n",
    "        concatTable = pd.concat(listOfTable).sort_index()\n",
    "        concatTable = concatTable.set_index(keys=indices)\n",
    "        return concatTable.sort_index(axis=0,ascending=True)\n",
    "    # pivot_table_w_subtotals(df=df,values='Value',indices=['Store','Department','Type'],columns=[],aggfunc='sum',fill_value='')\n"
   ]
  },
  {
   "attachments": {},
   "cell_type": "markdown",
   "metadata": {},
   "source": [
    "EXPORT MSEG DATA IN PRD."
   ]
  },
  {
   "cell_type": "code",
   "execution_count": 8,
   "metadata": {},
   "outputs": [
    {
     "name": "stdout",
     "output_type": "stream",
     "text": [
      "[{'TEXT': \"KZBEW = 'B' AND BWART = '101,102' AND MATNR <> ''\"}]\n"
     ]
    },
    {
     "name": "stderr",
     "output_type": "stream",
     "text": [
      "C:\\Users\\Admin\\AppData\\Local\\Temp\\ipykernel_8168\\1201460403.py:22: FutureWarning: The default value of regex will change from True to False in a future version. In addition, single character regular expressions will *not* be treated as literal strings when regex=True.\n",
      "  df_export['DMBTR'] = df_export.DMBTR.str.replace(\"*\",\"\")\n"
     ]
    }
   ],
   "source": [
    "if __name__ == '__main__':\n",
    "    # Init the class and connect\n",
    "    # I find this can be very slow to do...\n",
    "    rfc = main()\n",
    "    # Choose your fields and table\n",
    "    fields = ['MJAHR','MBLNR','EBELN','SHKZG','KZBEW','MATNR','BWART','WERKS','LIFNR','DMBTR','WAERS','MENGE','MEINS','BUDAT_MKPF','CPUDT_MKPF']\n",
    "    table = 'MSEG'\n",
    "    # you need to put a where condition in there... could be anything\n",
    "    # where = [\"KZBEW = 'B' AND BWART = '101,102' AND MATNR <> '' AND WERKS = '2100' AND MATNR = '1001010001'\"]\n",
    "    where = [\"KZBEW = 'B' AND BWART = '101,102' AND MATNR <> ''\"]\n",
    "    # max number of rows to return\n",
    "    maxrows = 0\n",
    "\n",
    "    # starting row to return\n",
    "    fromrow = 0\n",
    "\n",
    "    # query SAP\n",
    "    df_export = rfc.query(fields, table, where, maxrows, fromrow)\n",
    "    # df_export = df_export.sort_values('ZSEQUEN', ascending= False)\\\n",
    "    # print(max(df_export['MATNR']))\n",
    "    df_export['ZMONTH'] = df_export['BUDAT_MKPF'].str.slice(4,6)\n",
    "    df_export['DMBTR'] = df_export.DMBTR.str.replace(\"*\",\"\")\n",
    "    df_export['DMBTR'] = df_export.DMBTR.astype(float)\n",
    "    df_export['DMBTR'] = df_export['DMBTR']*100 # VND Currency\n",
    "    df_export['MENGE'] = df_export.MENGE.astype(float)\n",
    "    df_export['ZPRICE'] = df_export['DMBTR']/df_export['MENGE']\n",
    "    # df_export['DMBTR']=df_export['DMBTR'].astype(float)\n"
   ]
  },
  {
   "attachments": {},
   "cell_type": "markdown",
   "metadata": {},
   "source": [
    "EXPORT VENDOR MASTER DATA"
   ]
  },
  {
   "cell_type": "code",
   "execution_count": 9,
   "metadata": {},
   "outputs": [],
   "source": [
    "data = \"','\".join(tuple(set(df_export['LIFNR'])))\n",
    "field = \"PARTNER\"\n",
    "str = [\"\" + field + \" IN ('\"  + data +\"')\"]\n"
   ]
  },
  {
   "cell_type": "code",
   "execution_count": 10,
   "metadata": {},
   "outputs": [
    {
     "name": "stdout",
     "output_type": "stream",
     "text": [
      "[{'TEXT': ''}]\n"
     ]
    }
   ],
   "source": [
    "if __name__ == '__main__':\n",
    "\n",
    "    # Init the class and connect\n",
    "    # I find this can be very slow to do...\n",
    "    rfc = main()\n",
    "    # Choose your fields and table\n",
    "    fields = ['PARTNER','BU_SORT2','BU_GROUP','NAME_ORG1']\n",
    "    table = 'BUT000'\n",
    "    # you need to put a where condition in there... could be anything\n",
    "    # where = [\"KZBEW = 'B' AND BWART = '101,102' AND MATNR <> '' AND WERKS = '2100' AND MATNR = '1001010001'\"]\n",
    "    where = [\"\"]\n",
    "\n",
    "    # where = [\"MATKL = '100101'\"]\n",
    "    # max number of rows to return\n",
    "    maxrows = 0\n",
    "\n",
    "    # starting row to return\n",
    "    fromrow = 0\n",
    "\n",
    "    # query SAP\n",
    "    df_vendor = rfc.query(fields, table, where, maxrows, fromrow)"
   ]
  },
  {
   "attachments": {},
   "cell_type": "markdown",
   "metadata": {},
   "source": [
    "EXPORT MATERIAL DESCRIPTION"
   ]
  },
  {
   "cell_type": "code",
   "execution_count": 11,
   "metadata": {},
   "outputs": [
    {
     "name": "stdout",
     "output_type": "stream",
     "text": [
      "[{'TEXT': ''}]\n",
      "                                           MATNR MTART   MATKL\n",
      "0       TH-007CN00012                             ZHAL    P302\n",
      "1       TH-008PR00008                             ZHAL    P302\n",
      "2       TH-010CN00010                             ZHAL    P302\n",
      "3       TH-020AG0021B                             ZHAL    P302\n",
      "4       TH-030AG0030B                             ZHAL    P302\n",
      "...                                          ...   ...     ...\n",
      "166625  000000002004060180                        ZRO2  200406\n",
      "166626  000000002004060181                        ZRO2  200406\n",
      "166627  000000002004060182                        ZRO2  200406\n",
      "166628  000000002003010056                        ZRO2  200301\n",
      "166629  000000002003010055                        ZRO2  200301\n",
      "\n",
      "[166630 rows x 3 columns]\n"
     ]
    }
   ],
   "source": [
    "if __name__ == '__main__':\n",
    "\n",
    "    # Init the class and connect\n",
    "    # I find this can be very slow to do...\n",
    "    rfc = main()\n",
    "    # Choose your fields and table\n",
    "    fields = ['MATNR','MTART','MATKL']\n",
    "    table = 'MARA'\n",
    "    # you need to put a where condition in there... could be anything\n",
    "    # where = [\"KZBEW = 'B' AND BWART = '101,102' AND MATNR <> '' AND WERKS = '2100' AND MATNR = '1001010001'\"]\n",
    "    where = [\"\"]\n",
    "\n",
    "    # where = [\"MATKL = '100101'\"]\n",
    "    # max number of rows to return\n",
    "    maxrows = 0\n",
    "\n",
    "    # starting row to return\n",
    "    fromrow = 0\n",
    "\n",
    "    # query SAP\n",
    "    df_mara = rfc.query(fields, table, where, maxrows, fromrow)\n",
    "    print(df_mara)"
   ]
  },
  {
   "attachments": {},
   "cell_type": "markdown",
   "metadata": {},
   "source": [
    "GET DESCRIPTION MATERIAL MASTER DATA."
   ]
  },
  {
   "cell_type": "code",
   "execution_count": 12,
   "metadata": {},
   "outputs": [
    {
     "name": "stdout",
     "output_type": "stream",
     "text": [
      "[{'TEXT': \"SPRAS = 'EN'\"}]\n",
      "                                           MATNR  \\\n",
      "0       000000002007811534                         \n",
      "1       000000002007811535                         \n",
      "2       000000002007811536                         \n",
      "3       000000002007811537                         \n",
      "4       000000002007811538                         \n",
      "...                                          ...   \n",
      "166625  000000002004060180                         \n",
      "166626  000000002004060181                         \n",
      "166627  000000002004060182                         \n",
      "166628  000000002003010055                         \n",
      "166629  000000002003010056                         \n",
      "\n",
      "                                           MAKTG SPRAS  \n",
      "0       3T AL.SHEET REFER TO DRAWING                 E  \n",
      "1       3T AL.SHEET REFER TO DRAWING                 E  \n",
      "2       3T AL.SHEET REFER TO DRAWING                 E  \n",
      "3       3T AL.SHEET REFER TO DRAWING                 E  \n",
      "4       3T AL.SHEET REFER TO DRAWING                 E  \n",
      "...                                          ...   ...  \n",
      "166625  TAP HSS-PMM6 X 1.0                           E  \n",
      "166626  TAP HSS-PM M5 X 0.8                          E  \n",
      "166627  TAP HSS-PM M3 X 0.5                          E  \n",
      "166628  INK SG 740 SILVER LOGO/A-S547 HDV022         E  \n",
      "166629  INK SG 740 DARK GRRAY LOGO/A-H565 HDV023     E  \n",
      "\n",
      "[166630 rows x 3 columns]\n"
     ]
    }
   ],
   "source": [
    "if __name__ == '__main__':\n",
    "\n",
    "    # Init the class and connect\n",
    "    # I find this can be very slow to do...\n",
    "    rfc = main()\n",
    "    # Choose your fields and table\n",
    "    fields = ['MATNR','MAKTG','SPRAS']\n",
    "    table = 'MAKT'\n",
    "    # you need to put a where condition in there... could be anything\n",
    "    # where = [\"KZBEW = 'B' AND BWART = '101,102' AND MATNR <> '' AND WERKS = '2100' AND MATNR = '1001010001'\"]\n",
    "    where = [\"SPRAS = 'EN'\"]\n",
    "\n",
    "    # where = [\"MATKL = '100101'\"]\n",
    "    # max number of rows to return\n",
    "    maxrows = 0\n",
    "\n",
    "    # starting row to return\n",
    "    fromrow = 0\n",
    "\n",
    "    # query SAP\n",
    "    df_makt = rfc.query(fields, table, where, maxrows, fromrow)\n",
    "    print(df_makt)"
   ]
  },
  {
   "attachments": {},
   "cell_type": "markdown",
   "metadata": {},
   "source": [
    "COMPARE DATAFRAME"
   ]
  },
  {
   "cell_type": "code",
   "execution_count": 13,
   "metadata": {},
   "outputs": [],
   "source": [
    "df_vendor['LIFNR'] =df_vendor['PARTNER']\n",
    "# Megre Vendor Infomation\n",
    "df = pd.merge(\n",
    "    df_export,\n",
    "    df_vendor,\n",
    "    on='LIFNR',\n",
    "    how='left',)\n",
    "# Megre Material Master Data\n",
    "df1 = pd.merge(\n",
    "    df,\n",
    "    df_makt,\n",
    "    on='MATNR',\n",
    "    how='left',)\n",
    "df2 = pd.merge(\n",
    "    df1,\n",
    "    df_mara,\n",
    "    on='MATNR',\n",
    "    how='left',)"
   ]
  },
  {
   "attachments": {},
   "cell_type": "markdown",
   "metadata": {},
   "source": [
    "PRICE REPORT"
   ]
  },
  {
   "cell_type": "code",
   "execution_count": 17,
   "metadata": {},
   "outputs": [],
   "source": [
    "import numpy as np\n",
    "table = pd.pivot_table(df2, values='ZPRICE', index=['WERKS','MTART','MATKL','MATNR','MAKTG','MEINS','BU_GROUP','LIFNR','NAME_ORG1'],\n",
    "                    columns=['MJAHR','ZMONTH'], aggfunc=np.average)\n",
    "table.to_excel('Report_Price.xlsx')"
   ]
  },
  {
   "attachments": {},
   "cell_type": "markdown",
   "metadata": {},
   "source": [
    "AMOUNT REPORT"
   ]
  },
  {
   "cell_type": "code",
   "execution_count": null,
   "metadata": {},
   "outputs": [],
   "source": [
    "import numpy as np\n",
    "table = pd.pivot_table(df2, values='DMBTR', index=['WERKS','MTART','MATKL','MATNR','MAKTG','MEINS','BU_GROUP','LIFNR','NAME_ORG1'],\n",
    "                    columns=['MJAHR','ZMONTH'], aggfunc=np.average)\n",
    "table.to_excel('Report_Amount.xlsx')"
   ]
  },
  {
   "cell_type": "code",
   "execution_count": 18,
   "metadata": {},
   "outputs": [],
   "source": [
    "def pivot_table_w_subtotals(df, values, indices, columns, aggfunc, fill_value):\n",
    "        '''\n",
    "        Adds tabulated subtotals to pandas pivot tables with multiple hierarchical indices.\n",
    "        \n",
    "        Args:\n",
    "        - df - dataframe used in pivot table\n",
    "        - values - values used to aggregrate\n",
    "        - indices - ordered list of indices to aggregrate by\n",
    "        - columns - columns to aggregrate by\n",
    "        - aggfunc - function used to aggregrate (np.max, np.mean, np.sum, etc)\n",
    "        - fill_value - value used to in place of empty cells\n",
    "        \n",
    "        Returns:\n",
    "        -flat table with data aggregrated and tabulated\n",
    "        \n",
    "        '''\n",
    "        listOfTable = []\n",
    "        for indexNumber in range(len(indices)):\n",
    "            n = indexNumber+1\n",
    "            if n == 1:\n",
    "                table = pd.pivot_table(df,values=values,index=indices[:n],columns=columns,aggfunc=aggfunc,fill_value=fill_value,margins=True)\n",
    "            else:\n",
    "                table = pd.pivot_table(df,values=values,index=indices[:n],columns=columns,aggfunc=aggfunc,fill_value=fill_value)\n",
    "            table = table.reset_index()\n",
    "            if len(indices)-1 == n:\n",
    "                for column in indices[n:]:\n",
    "                    table[column] = ''\n",
    "            listOfTable.append(table)\n",
    "        concatTable = pd.concat(listOfTable).sort_index()\n",
    "        concatTable = concatTable.set_index(keys=indices)\n",
    "        return concatTable.sort_index(axis=0,ascending=True)\n",
    "    # pivot_table_w_subtotals(df=df,values='Value',indices=['Store','Department','Type'],columns=[],aggfunc='sum',fill_value='')\n"
   ]
  },
  {
   "cell_type": "code",
   "execution_count": 19,
   "metadata": {},
   "outputs": [],
   "source": [
    "amount = pivot_table_w_subtotals(df2,'ZPRICE',['WERKS','MTART','MATKL','BU_GROUP'],['MJAHR','ZMONTH'],'sum',\"\")\n",
    "amount.to_excel(\"Report_Amount.xlsx\")"
   ]
  }
 ],
 "metadata": {
  "kernelspec": {
   "display_name": "venv",
   "language": "python",
   "name": "python3"
  },
  "language_info": {
   "codemirror_mode": {
    "name": "ipython",
    "version": 3
   },
   "file_extension": ".py",
   "mimetype": "text/x-python",
   "name": "python",
   "nbconvert_exporter": "python",
   "pygments_lexer": "ipython3",
   "version": "3.11.1"
  },
  "orig_nbformat": 4,
  "vscode": {
   "interpreter": {
    "hash": "32096628298060b459ae0808dd3436fe4420aff65b7f21ebbd881aa769dbe53c"
   }
  }
 },
 "nbformat": 4,
 "nbformat_minor": 2
}
