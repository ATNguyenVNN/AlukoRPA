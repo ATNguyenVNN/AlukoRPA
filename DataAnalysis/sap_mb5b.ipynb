{
 "cells": [
  {
   "attachments": {},
   "cell_type": "markdown",
   "metadata": {},
   "source": [
    "SAP Subcontract Inventory Report"
   ]
  },
  {
   "cell_type": "code",
   "execution_count": 46,
   "metadata": {},
   "outputs": [],
   "source": [
    "# -Begin-----------------------------------------------------------------\n",
    "# Fnc SAP Scripting\n",
    "# -Includes--------------------------------------------------------------\n",
    "import subprocess\n",
    "import win32com.client as win32\n",
    "import sys\n",
    "import os\n",
    "import time\n",
    "import pandas as pd\n",
    "from datetime import datetime\n",
    "# -SUB Main--------------------------------------------------------------\n",
    "\n",
    "\n",
    "class SapGui():\n",
    "    def __init__(self) -> None:\n",
    "        super().__init__()\n",
    "    # TuNA 2211118 _ Define Open SAP GUI.\n",
    "    def open_sap(self):\n",
    "        self.path = r\"C:\\Program Files (x86)\\SAP\\FrontEnd\\SAPgui\\saplogon.exe\"\n",
    "        subprocess.Popen(self.path)\n",
    "    # Login SAPGUI function.\n",
    "    def sapLogin(self, sid, clt, usr, pwd):\n",
    "        # KHAI BÁO DỮ LIỆU SAP\n",
    "        self.sid = sid\n",
    "        self.clt = clt\n",
    "        self.usr = usr\n",
    "        self.pwd = pwd\n",
    "        # Connect SAP GUI\n",
    "        self.open_sap()\n",
    "        time.sleep(1)\n",
    "        self.SapGuiAuto = win32.GetObject(\"SAPGUI\")\n",
    "        application = self.SapGuiAuto.GetScriptingEngine\n",
    "        self.connection = application.OpenConnection(self.sid, True)\n",
    "        time.sleep(1)\n",
    "        self.session = self.connection.Children(0)\n",
    "        try:\n",
    "            # THE CLIENT\n",
    "            self.session.findById(\"wnd[0]/usr/txtRSYST-MANDT\").Text = self.clt\n",
    "            # USERNAME\n",
    "            self.session.findById(\"wnd[0]/usr/txtRSYST-BNAME\").Text = self.usr\n",
    "            # PASSWORD\n",
    "            self.session.findById(\"wnd[0]/usr/pwdRSYST-BCODE\").Text = self.pwd\n",
    "            # LANGUAGE\n",
    "            self.session.findById(\"wnd[0]/usr/txtRSYST-LANGU\").Text = 'EN'\n",
    "            # ENTER\n",
    "            self.session.findById(\"wnd[0]\").sendVKey(0)\n",
    "            if self.session.findById(\"wnd[0]/sbar\").Text != \"\":\n",
    "                msg = self.session.findById(\"wnd[0]/sbar\").Text\n",
    "            else:\n",
    "                msg = 'Đăng nhập SAP thành công ....'\n",
    "        except Exception as e:\n",
    "            msg = e\n",
    "        finally:\n",
    "            return msg\n",
    "\n",
    "    # Logout SAPGUI function.\n",
    "    def sapLogout(self):\n",
    "        self.connection.CloseSession('ses[0]')\n",
    "        return 'Logout SAP Completed.'\n",
    "        \n",
    "    # Connect Python with SAPGUI via Script.\n",
    "    def sapConnect(self,sid):\n",
    "        self.sid = sid\n",
    "        try:\n",
    "            self.SapGuiAuto = win32.GetObject(\"SAPGUI\")\n",
    "            application = self.SapGuiAuto.GetScriptingEngine\n",
    "            self.connection = application.OpenConnection(self.sid,True)\n",
    "            self.connection = application.Children(0)\n",
    "            self.session = self.connection.Children(0)\n",
    "            msg = 'Connection successful.'\n",
    "        except:\n",
    "            msg = 'Require to login to SAP before starting this function.'\n",
    "        finally:\n",
    "            return msg\n"
   ]
  },
  {
   "cell_type": "code",
   "execution_count": 47,
   "metadata": {},
   "outputs": [
    {
     "ename": "com_error",
     "evalue": "(-2147352567, 'Exception occurred.', (614, 'saplogon', 'The enumerator of the collection cannot find an element with the specified index.', 'C:\\\\Program Files (x86)\\\\SAP\\\\FrontEnd\\\\SAPgui\\\\saplogon.HLP', 393215, 0), None)",
     "output_type": "error",
     "traceback": [
      "\u001b[1;31m---------------------------------------------------------------------------\u001b[0m",
      "\u001b[1;31mcom_error\u001b[0m                                 Traceback (most recent call last)",
      "Cell \u001b[1;32mIn[47], line 2\u001b[0m\n\u001b[0;32m      1\u001b[0m sap \u001b[39m=\u001b[39m SapGui()\n\u001b[1;32m----> 2\u001b[0m sap\u001b[39m.\u001b[39;49msapLogin(\u001b[39m'\u001b[39;49m\u001b[39mQAS\u001b[39;49m\u001b[39m'\u001b[39;49m,\u001b[39m'\u001b[39;49m\u001b[39m200\u001b[39;49m\u001b[39m'\u001b[39;49m,\u001b[39m'\u001b[39;49m\u001b[39mAMMP35\u001b[39;49m\u001b[39m'\u001b[39;49m,\u001b[39m'\u001b[39;49m\u001b[39mDua@2022@\u001b[39;49m\u001b[39m'\u001b[39;49m)\n",
      "Cell \u001b[1;32mIn[46], line 35\u001b[0m, in \u001b[0;36mSapGui.sapLogin\u001b[1;34m(self, sid, clt, usr, pwd)\u001b[0m\n\u001b[0;32m     33\u001b[0m \u001b[39mself\u001b[39m\u001b[39m.\u001b[39mconnection \u001b[39m=\u001b[39m application\u001b[39m.\u001b[39mOpenConnection(\u001b[39mself\u001b[39m\u001b[39m.\u001b[39msid, \u001b[39mTrue\u001b[39;00m)\n\u001b[0;32m     34\u001b[0m time\u001b[39m.\u001b[39msleep(\u001b[39m1\u001b[39m)\n\u001b[1;32m---> 35\u001b[0m \u001b[39mself\u001b[39m\u001b[39m.\u001b[39msession \u001b[39m=\u001b[39m \u001b[39mself\u001b[39;49m\u001b[39m.\u001b[39;49mconnection\u001b[39m.\u001b[39;49mChildren(\u001b[39m0\u001b[39;49m)\n\u001b[0;32m     36\u001b[0m \u001b[39mtry\u001b[39;00m:\n\u001b[0;32m     37\u001b[0m     \u001b[39m# THE CLIENT\u001b[39;00m\n\u001b[0;32m     38\u001b[0m     \u001b[39mself\u001b[39m\u001b[39m.\u001b[39msession\u001b[39m.\u001b[39mfindById(\u001b[39m\"\u001b[39m\u001b[39mwnd[0]/usr/txtRSYST-MANDT\u001b[39m\u001b[39m\"\u001b[39m)\u001b[39m.\u001b[39mText \u001b[39m=\u001b[39m \u001b[39mself\u001b[39m\u001b[39m.\u001b[39mclt\n",
      "File \u001b[1;32mc:\\Users\\Admin\\Documents\\AlukoRPA\\RPA\\venv\\Lib\\site-packages\\win32com\\client\\dynamic.py:226\u001b[0m, in \u001b[0;36mCDispatch.__call__\u001b[1;34m(self, *args)\u001b[0m\n\u001b[0;32m    223\u001b[0m \u001b[39mif\u001b[39;00m invkind \u001b[39mis\u001b[39;00m \u001b[39mnot\u001b[39;00m \u001b[39mNone\u001b[39;00m:\n\u001b[0;32m    224\u001b[0m     allArgs \u001b[39m=\u001b[39m (dispid, LCID, invkind, \u001b[39m1\u001b[39m) \u001b[39m+\u001b[39m args\n\u001b[0;32m    225\u001b[0m     \u001b[39mreturn\u001b[39;00m \u001b[39mself\u001b[39m\u001b[39m.\u001b[39m_get_good_object_(\n\u001b[1;32m--> 226\u001b[0m         \u001b[39mself\u001b[39;49m\u001b[39m.\u001b[39;49m_oleobj_\u001b[39m.\u001b[39;49mInvoke(\u001b[39m*\u001b[39;49mallArgs), \u001b[39mself\u001b[39m\u001b[39m.\u001b[39m_olerepr_\u001b[39m.\u001b[39mdefaultDispatchName, \u001b[39mNone\u001b[39;00m\n\u001b[0;32m    227\u001b[0m     )\n\u001b[0;32m    228\u001b[0m \u001b[39mraise\u001b[39;00m \u001b[39mTypeError\u001b[39;00m(\u001b[39m\"\u001b[39m\u001b[39mThis dispatch object does not define a default method\u001b[39m\u001b[39m\"\u001b[39m)\n",
      "\u001b[1;31mcom_error\u001b[0m: (-2147352567, 'Exception occurred.', (614, 'saplogon', 'The enumerator of the collection cannot find an element with the specified index.', 'C:\\\\Program Files (x86)\\\\SAP\\\\FrontEnd\\\\SAPgui\\\\saplogon.HLP', 393215, 0), None)"
     ]
    }
   ],
   "source": [
    "sap = SapGui()\n",
    "sap.sapLogin('QAS','200','AMMP35','Dua@2022@')"
   ]
  }
 ],
 "metadata": {
  "kernelspec": {
   "display_name": "venv",
   "language": "python",
   "name": "python3"
  },
  "language_info": {
   "codemirror_mode": {
    "name": "ipython",
    "version": 3
   },
   "file_extension": ".py",
   "mimetype": "text/x-python",
   "name": "python",
   "nbconvert_exporter": "python",
   "pygments_lexer": "ipython3",
   "version": "3.11.1 (tags/v3.11.1:a7a450f, Dec  6 2022, 19:58:39) [MSC v.1934 64 bit (AMD64)]"
  },
  "orig_nbformat": 4,
  "vscode": {
   "interpreter": {
    "hash": "32096628298060b459ae0808dd3436fe4420aff65b7f21ebbd881aa769dbe53c"
   }
  }
 },
 "nbformat": 4,
 "nbformat_minor": 2
}
